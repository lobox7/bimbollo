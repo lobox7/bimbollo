{
 "cells": [
  {
   "cell_type": "markdown",
   "metadata": {},
   "source": [
    "## Bimbollo Challenge\n",
    "\n",
    "### Preparación de los datos\n",
    "Para poder manejar los millones de registros que nos daban para crear el modelo fue necesario guardarlo en postgres.\n",
    "\n",
    "El primer paso fue correr postgres dentro de un container de docker:\n",
    "\n",
    "` docker run -p 5432:5432 postgres `\n",
    "\n",
    "Después el buen cejas importo los CSV's que nos daban y los importó a la base de datos, desde ahí creo un bonito dump `bimbollo.sql` para que el resto del equipo creara la base de datos.\n",
    "\n",
    "Después se tiene que crear la base de datos `bimbo`\n",
    "\n",
    "``` \n",
    "psql -h 0.0.0.0 -p 5432  -U postgres  \n",
    "psql (9.5.3)\n",
    "Type \"help\" for help.\n",
    "\n",
    "postgres=# CREATE DATABASE bimbo;\n",
    "```\n",
    "\n",
    "Lo único restante por hacer es correr: \n",
    "\n",
    "`psql -h 0.0.0.0 -p 5432 -U postgres -d bimbo -f bimbollo.sql`\n",
    "\n",
    "y la base de datos está lista para consumir!\n"
   ]
  },
  {
   "cell_type": "markdown",
   "metadata": {},
   "source": [
    "### Exploración de datos"
   ]
  },
  {
   "cell_type": "code",
   "execution_count": 1,
   "metadata": {
    "collapsed": false
   },
   "outputs": [],
   "source": [
    "# Load dependencies\n",
    "import psycopg2, pandas\n",
    "\n",
    "# Set up connection parameters\n",
    "db_connection = psycopg2.connect(host=\"0.0.0.0\", port=\"5432\",\n",
    "                                 user=\"postgres\",password=\"\",\n",
    "                                 dbname=\"bimbo\")\n",
    "\n",
    "# Connect to the database server\n",
    "db_cursor = db_connection.cursor()"
   ]
  },
  {
   "cell_type": "code",
   "execution_count": 3,
   "metadata": {
    "collapsed": false
   },
   "outputs": [
    {
     "data": {
      "text/html": [
       "<div>\n",
       "<table border=\"1\" class=\"dataframe\">\n",
       "  <thead>\n",
       "    <tr style=\"text-align: right;\">\n",
       "      <th></th>\n",
       "      <th>semana</th>\n",
       "      <th>agencia_id</th>\n",
       "      <th>canal_id</th>\n",
       "      <th>ruta_sak</th>\n",
       "      <th>cliente_id</th>\n",
       "      <th>producto_id</th>\n",
       "      <th>venta_uni_hoy</th>\n",
       "      <th>venta_hoy</th>\n",
       "      <th>dev_uni_proxima</th>\n",
       "      <th>dev_proxima</th>\n",
       "      <th>demanda_uni_equil</th>\n",
       "    </tr>\n",
       "  </thead>\n",
       "  <tbody>\n",
       "    <tr>\n",
       "      <th>0</th>\n",
       "      <td>3</td>\n",
       "      <td>1110</td>\n",
       "      <td>7</td>\n",
       "      <td>3301</td>\n",
       "      <td>15766</td>\n",
       "      <td>1212</td>\n",
       "      <td>3</td>\n",
       "      <td>25.14</td>\n",
       "      <td>0</td>\n",
       "      <td>0.0</td>\n",
       "      <td>3</td>\n",
       "    </tr>\n",
       "  </tbody>\n",
       "</table>\n",
       "</div>"
      ],
      "text/plain": [
       "  semana agencia_id canal_id ruta_sak cliente_id producto_id venta_uni_hoy  \\\n",
       "0      3       1110        7     3301      15766        1212             3   \n",
       "\n",
       "  venta_hoy dev_uni_proxima dev_proxima demanda_uni_equil  \n",
       "0     25.14               0         0.0                 3  "
      ]
     },
     "execution_count": 3,
     "metadata": {},
     "output_type": "execute_result"
    }
   ],
   "source": [
    "# Basic select\n",
    "sql_query = \"SELECT * FROM import.train LIMIT 1;\"\n",
    "\n",
    "dataframe_from_query = pandas.read_sql_query(sql_query, db_connection)\n",
    "dataframe_from_query"
   ]
  },
  {
   "cell_type": "code",
   "execution_count": null,
   "metadata": {
    "collapsed": true
   },
   "outputs": [],
   "source": []
  },
  {
   "cell_type": "markdown",
   "metadata": {},
   "source": [
    "### Formulación de modelos\n",
    "\n"
   ]
  },
  {
   "cell_type": "code",
   "execution_count": null,
   "metadata": {
    "collapsed": true
   },
   "outputs": [],
   "source": []
  },
  {
   "cell_type": "markdown",
   "metadata": {},
   "source": [
    "### Visualización de Datos"
   ]
  },
  {
   "cell_type": "code",
   "execution_count": null,
   "metadata": {
    "collapsed": true
   },
   "outputs": [],
   "source": []
  }
 ],
 "metadata": {
  "kernelspec": {
   "display_name": "Python 3",
   "language": "python",
   "name": "python3"
  },
  "language_info": {
   "codemirror_mode": {
    "name": "ipython",
    "version": 3
   },
   "file_extension": ".py",
   "mimetype": "text/x-python",
   "name": "python",
   "nbconvert_exporter": "python",
   "pygments_lexer": "ipython3",
   "version": "3.5.1"
  }
 },
 "nbformat": 4,
 "nbformat_minor": 0
}
